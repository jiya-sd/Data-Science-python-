{
  "nbformat": 4,
  "nbformat_minor": 0,
  "metadata": {
    "colab": {
      "name": "N180718 (DSP)Lab 1.ipynb",
      "provenance": [],
      "collapsed_sections": [],
      "authorship_tag": "ABX9TyNjQIGLi7Fx1/84YRmDNP0k",
      "include_colab_link": true
    },
    "kernelspec": {
      "name": "python3",
      "display_name": "Python 3"
    },
    "language_info": {
      "name": "python"
    }
  },
  "cells": [
    {
      "cell_type": "markdown",
      "metadata": {
        "id": "view-in-github",
        "colab_type": "text"
      },
      "source": [
        "<a href=\"https://colab.research.google.com/github/jiya-sd/Data-Science-python-/blob/main/N180718_(DSP)Lab_1.ipynb\" target=\"_parent\"><img src=\"https://colab.research.google.com/assets/colab-badge.svg\" alt=\"Open In Colab\"/></a>"
      ]
    },
    {
      "cell_type": "markdown",
      "source": [
        "Objective: To demonstrate working of classes and objects\n",
        "Procedure:\n",
        "Creating Classes :-\n",
        "   syntax :  class ClassName:\n",
        "Creating Instance Objects  :-\n",
        "   syntax : obj_name =classname()\n",
        "Accessing Attributes  :-\n",
        "    //general method\n",
        "   syntax : obj_name.attribute_name()\n",
        "   //built-in attributes\n",
        "   1.getattr() to access the attribute of object\n",
        "   2.delattr()-to delete an attribute.\n",
        "   3.setattr()-to set an attribute. If attribute does not exist, then it would be created. \n",
        "   4.hasattr()-to check if an attribute exists or not.\n",
        "             \n",
        "Built-in class  :-\n",
        "   1.__doc__\n",
        "   2.__module__\n",
        "   3.__name__\n",
        "   4.__dict__\n",
        "   5.__bases__"
      ],
      "metadata": {
        "id": "jTRSelkOGSzk"
      }
    },
    {
      "cell_type": "code",
      "source": [
        "class Bank:\n",
        "  'This is a bank class'\n",
        "  def __init__(self,name,ac_no,branch):\n",
        "        self.name=name\n",
        "        self.ac_no=ac_no\n",
        "        self.branch=branch\n",
        "  def get_data(self):\n",
        "        self.name=input(\"Enter your name : \")\n",
        "        self.ac_no=int(input(\"Enter your account number : \"))\n",
        "        self.branch=input(\"Enter your branch location : \")\n",
        "  def show(self):\n",
        "      details= \"{}, is a account holder in {} with account number {}\"\n",
        "      print(details.format(self.name, self.branch, self.ac_no))\n",
        "      print(\"hello this is \"+self.name)\n",
        "\n",
        "'''Built-in Classes'''\n",
        "print(\"documentation >> \",Bank.__doc__)\n",
        "print(\"name of class >> \",Bank.__name__)\n",
        "print(\"dictionary of namespaces >> \" ,Bank.__dict__)\n",
        "print(\"Bases >> \",Bank.__bases__)\n",
        "\n",
        "'''Instantiation of objects'''\n",
        "print(\"---------------------------------------------------------------------\")\n",
        "cust1=Bank(\"jiya\",2324,\"kuchipudi\")\n",
        "cust2=Bank(\"rajiya\",2424,\"chilakalapudi\")\n",
        "\n",
        "'''Accessing attributes'''\n",
        "print(\"---------------------------------------------------------------------\")\n",
        "cust1.show()\n",
        "cust2.show()\n",
        "\n",
        "'''Built-in attributes'''\n",
        "print(\"---------------------------------------------------------------------\")\n",
        "#get attribute\n",
        "ac=getattr(cust1,'ac_no')\n",
        "print(\"Ac_no of customer 1 is \",ac)\n",
        "#setting ac no\n",
        "setattr(cust1,'ac_no',3454)\n",
        "print(\"Ac_no of customer 1 after modification \",cust1.ac_no)\n",
        "#has attribute\n",
        "print(\"Do ifsc code is provided or not(y/n) :\",hasattr(Bank,'ifsc'))\n",
        "#del attribute\n",
        "#delattr(cust1,'branch')\n",
        "#cust1.show()\n",
        "\n"
      ],
      "metadata": {
        "colab": {
          "base_uri": "https://localhost:8080/"
        },
        "id": "M4G65D4PGZHP",
        "outputId": "c8c50a83-2e06-4ef7-d4b4-f04eaffa4f61"
      },
      "execution_count": 32,
      "outputs": [
        {
          "output_type": "stream",
          "name": "stdout",
          "text": [
            "documentation >>  This is a bank class\n",
            "name of class >>  Bank\n",
            "dictionary of namespaces >>  {'__module__': '__main__', '__doc__': 'This is a bank class', '__init__': <function Bank.__init__ at 0x7feb9b154290>, 'get_data': <function Bank.get_data at 0x7feb9b154560>, 'show': <function Bank.show at 0x7feb9b154050>, '__dict__': <attribute '__dict__' of 'Bank' objects>, '__weakref__': <attribute '__weakref__' of 'Bank' objects>}\n",
            "Bases >>  (<class 'object'>,)\n",
            "---------------------------------------------------------------------\n",
            "---------------------------------------------------------------------\n",
            "jiya, is a account holder in kuchipudi with account number 2324\n",
            "hello this is jiya\n",
            "rajiya, is a account holder in chilakalapudi with account number 2424\n",
            "hello this is rajiya\n",
            "---------------------------------------------------------------------\n",
            "Ac_no of customer 1 is  2324\n",
            "Ac_no of customer 1 after modification  3454\n",
            "Do ifsc code is provided or not(y/n) : False\n"
          ]
        }
      ]
    }
  ]
}